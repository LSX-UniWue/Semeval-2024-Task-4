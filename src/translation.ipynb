{
 "cells": [
  {
   "cell_type": "code",
   "execution_count": null,
   "metadata": {},
   "outputs": [],
   "source": [
    "import re\n",
    "import os\n",
    "import glob\n",
    "import json\n",
    "import tqdm\n",
    "\n",
    "from openai import OpenAI\n",
    "from src.path_utils import get_project_root"
   ]
  },
  {
   "cell_type": "code",
   "execution_count": null,
   "metadata": {},
   "outputs": [],
   "source": [
    "test_data_path = os.path.join(get_project_root(), 'data', 'test_data')\n",
    "\n",
    "test_data = {}\n",
    "\n",
    "for language_test_path in glob.glob(f'{test_data_path}/**/*_subtask1*'):\n",
    "\n",
    "    language = language_test_path.split('/')[-2]\n",
    "    if language == 'english':\n",
    "        continue\n",
    "    print(f'Language : {language}')\n",
    "\n",
    "    with open(language_test_path, 'r') as f:\n",
    "        lang_data = json.load(f)\n",
    "\n",
    "    test_data[language] = lang_data\n",
    "\n",
    "print(test_data)"
   ]
  },
  {
   "cell_type": "code",
   "outputs": [],
   "source": [
    "OPENAI_API_KEY=\"sk-<KEY>\"\n",
    "client = OpenAI(api_key=OPENAI_API_KEY)"
   ],
   "metadata": {
    "collapsed": false
   },
   "execution_count": null
  },
  {
   "cell_type": "code",
   "execution_count": null,
   "metadata": {},
   "outputs": [],
   "source": [
    "out_path = os.path.join(get_project_root(), 'data', 'test_translations')\n"
   ]
  },
  {
   "cell_type": "code",
   "execution_count": null,
   "metadata": {},
   "outputs": [],
   "source": [
    "sys_prompt = \"You are a bilingual humorist, adept at translating meme text between languages while preserving the original humor, cultural nuances, and any slang or idiomatic expressions. Ensure the translation is accurate, contextually appropriate, and retains the meme's playful tone. Avoid adding explainations or additional commentary and provide only the translation.\"\n",
    "\n",
    "\n",
    "for lang, lang_data in test_data.items():\n",
    "\n",
    "    print(f'Language: {lang}')\n",
    "\n",
    "    lang_translations = []\n",
    "\n",
    "    for sample in tqdm.tqdm(lang_data, 'Translating memes'):\n",
    "        # print(sample)\n",
    "\n",
    "        sample_text = re.sub(r'\\s+', ' ', sample['text']).strip()\n",
    "\n",
    "        sample_prompt = f\"Translate the following meme text from {lang.capitalize()} to English: {sample_text}\"\n",
    "        # print(sample_prompt)\n",
    "\n",
    "        messages = [\n",
    "            {\"role\": \"system\", \"content\": sys_prompt},\n",
    "            {\"role\": \"user\", \"content\": sample_prompt}\n",
    "        ]\n",
    "        # print(messages)\n",
    "\n",
    "        completion = client.chat.completions.create(\n",
    "            model=\"gpt-4\",\n",
    "            messages=messages\n",
    "\n",
    "        )\n",
    "\n",
    "        message_content = completion.choices[0].message.content\n",
    "\n",
    "        # Remove quotation-marks introduced by chatgpt\n",
    "        if message_content.startswith('\\\"'):\n",
    "            message_content = message_content[1:]\n",
    "        if message_content.endswith('\\\"'):\n",
    "            message_content = message_content[:-1]\n",
    "\n",
    "\n",
    "        lang_translations.append({\n",
    "            'id': sample['id'],\n",
    "            'text': message_content\n",
    "        })\n",
    "\n",
    "\n",
    "        # Dump to file\n",
    "        with open(os.path.join(out_path, f'{lang}_translated.json'), 'w') as f:\n",
    "            json.dump(lang_translations, f, indent=4)\n"
   ]
  }
 ],
 "metadata": {
  "kernelspec": {
   "display_name": "semeval",
   "language": "python",
   "name": "python3"
  },
  "language_info": {
   "codemirror_mode": {
    "name": "ipython",
    "version": 3
   },
   "file_extension": ".py",
   "mimetype": "text/x-python",
   "name": "python",
   "nbconvert_exporter": "python",
   "pygments_lexer": "ipython3",
   "version": "3.10.0"
  }
 },
 "nbformat": 4,
 "nbformat_minor": 2
}
